{
 "cells": [
  {
   "cell_type": "markdown",
   "metadata": {},
   "source": [
    "simons super simple selenium software scripting strategy sharing session\n"
   ]
  },
  {
   "cell_type": "markdown",
   "metadata": {},
   "source": [
    "Agenda:  \n",
    "Overview  \n",
    "How it works  \n",
    "Example code  \n",
    "How to use Kono's(how to use)  \n",
    "install, path, python env, python slackbot.py  \n",
    "(give it try. lemme know. do ur own testing!)    \n",
    "How to contribute  \n"
   ]
  },
  {
   "cell_type": "markdown",
   "metadata": {},
   "source": [
    "## Getting Started\n",
    "---\n",
    "\n",
    "#### If using Firefox  \n",
    "```python\n",
    "from selenium import webdriver\n",
    "\n",
    "# Firefox\n",
    "driver = webdriver.Firefox()\n",
    "driver.get(\"http://google.com\")\n",
    "```\n",
    "_geckodriver for firefox_   \n",
    "**Download here:** https://github.com/mozilla/geckodriver/releases   \n",
    "**Troubleshooting:**  \n",
    "https://stackoverflow.com/a/40208762/5788582\n",
    "\n",
    "\n",
    "\n",
    "#### If using Chrome\n",
    "```python\n",
    "from selenium import webdriver\n",
    "\n",
    "# Chrome  \n",
    "# options = webdriver.ChromeOptions()\n",
    "# options.binary_location = \"/Applications/GoogleChrome.app/Contents/MacOS/Google Chrome\"\n",
    "chromedriver = \"/Users/sjung/Downloads/chromedriver\"\n",
    "driver = webdriver.Chrome(chromedriver)\n",
    "# driver = webdriver.Chrome(chromedriver, chrome_options=options)\n",
    "driver.get(\"http://google.com\")\n",
    "\n",
    "```\n",
    "_chromedriver for chrome_  \n",
    "**Download here:** https://sites.google.com/a/chromium.org/chromedriver/downloads  \n",
    "**Troubleshooting:**  \n",
    "https://stackoverflow.com/questions/46026987/selenium-gives-selenium-common-exceptions-webdriverexception-message-unknown\n",
    "\n",
    "\n",
    "_Python 3.6 users on MacOS:_  \n",
    "Getting a `urllib.error.URLError: <urlopen error [SSL: CERTIFICATE_VERIFY_FAILED] certificate verify failed (_ssl.c:777)>` error related to `html = urllib.request.urlopen(url)` ?  \n",
    "https://stackoverflow.com/questions/27835619/urllib-and-ssl-certificate-verify-failed-error/42334357#42334357  \n"
   ]
  },
  {
   "cell_type": "markdown",
   "metadata": {},
   "source": [
    "### Before scraping, explore:  "
   ]
  },
  {
   "cell_type": "markdown",
   "metadata": {},
   "source": [
    "#### Loading the page\n",
    "```python\n",
    "from selenium import webdriver\n",
    "from selenium.webdriver.support.ui import WebDriverWait\n",
    "from selenium.webdriver.support import expected_conditions as EC\n",
    "from selenium.webdriver.common.by import By\n",
    "from selenium.common.exceptions import TimeoutException\n",
    "\n",
    "\n",
    "def load_page(url):\n",
    "    # making sure the elements that we're after are loaded\n",
    "    # don't want to extract elements before the page has loaded\n",
    "\n",
    "    driver.get(url)\n",
    "    delay = 1\n",
    "    try:\n",
    "        wait = WebDriverWait(driver, delay)\n",
    "        wait.until(EC.presence_of_element_located((By.CLASS_NAME,\n",
    "                                                   \"index-a51e56ea\"))) # CSS_SELECTOR\n",
    "        print(\"Page is ready\")\n",
    "    except TimeoutException:\n",
    "        print(\"Loading took too muc time!\")\n",
    "\n",
    "\n",
    "load_page(url)\n",
    "```"
   ]
  },
  {
   "cell_type": "markdown",
   "metadata": {},
   "source": [
    "#### Extract desired information using Selenium\n",
    "\n",
    "```python\n",
    "def get_event_artist():\n",
    "    events = driver.find_elements_by_class_name(\"event-9d0dee19\")\n",
    "    event_list = [e.text for e in events]\n",
    "    # for event in events:\n",
    "    #     print(event.text)\n",
    "    print(\"event list: \", event_list)\n",
    "\n",
    "```"
   ]
  },
  {
   "cell_type": "markdown",
   "metadata": {},
   "source": [
    "\n",
    "\n"
   ]
  },
  {
   "cell_type": "code",
   "execution_count": null,
   "metadata": {},
   "outputs": [],
   "source": []
  },
  {
   "cell_type": "markdown",
   "metadata": {},
   "source": [
    "# 👈 👆👉 👇See you guys next time! 👈 👆👉 👇"
   ]
  },
  {
   "cell_type": "code",
   "execution_count": null,
   "metadata": {},
   "outputs": [],
   "source": []
  }
 ],
 "metadata": {
  "kernelspec": {
   "display_name": "Python 3",
   "language": "python",
   "name": "python3"
  },
  "language_info": {
   "codemirror_mode": {
    "name": "ipython",
    "version": 3
   },
   "file_extension": ".py",
   "mimetype": "text/x-python",
   "name": "python",
   "nbconvert_exporter": "python",
   "pygments_lexer": "ipython3",
   "version": "3.7.0"
  }
 },
 "nbformat": 4,
 "nbformat_minor": 2
}
